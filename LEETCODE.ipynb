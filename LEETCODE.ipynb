{
 "cells": [
  {
   "cell_type": "code",
   "execution_count": null,
   "id": "f6814ba1",
   "metadata": {},
   "outputs": [],
   "source": [
    "# leetcodeGiven an array of integers nums and an integer target, return indices of the two numbers such that they add up to target.\n",
    "# You may assume that each input would have exactly one solution, and you may not use the same element twice.\n",
    "# You can return the answer in any order.\n",
    "# Input: nums = [2,7,11,15], target = 9\n",
    "# Output: [0,1]\n",
    "class Solution:\n",
    "    def twoSum(self, nums: List[int], target: int) -> List[int]:\n",
    "        indexs = []\n",
    "\n",
    "        for i,j in enumerate(nums):\n",
    "            for v,k in enumerate(nums):\n",
    "                if i!=v and target==k+j:\n",
    "                    indexs.append(i)\n",
    "                    indexs.append(v)\n",
    "        return list(set(indexs))"
   ]
  },
  {
   "cell_type": "code",
   "execution_count": 97,
   "id": "0f70ff13",
   "metadata": {},
   "outputs": [
    {
     "data": {
      "text/plain": [
       "0.0"
      ]
     },
     "execution_count": 97,
     "metadata": {},
     "output_type": "execute_result"
    }
   ],
   "source": [
    "\"\"\" iki dene lis daxil edirik onlari birlesdirib sort edib medianin tapiriq\"\"\"\n",
    "nums1 = [0,0,0]\n",
    "nums2 = [0,0,0]\n",
    "new=nums1+nums2\n",
    "new.sort()\n",
    "float(np.where(len(new)%2==0,(str((new[len(new)//2]+new[(len(new)//2)-1])/2)).split(),(str(new[len(new)//2])).split())[0])"
   ]
  },
  {
   "cell_type": "code",
   "execution_count": 5,
   "id": "99846bc9",
   "metadata": {},
   "outputs": [],
   "source": [
    "# eded ve list verilir eger listde varsa indexin qaytarır eger yoxdusa var olsa idi olacagi yeri indexi gosterir\n",
    "def searchInsert(nums: List[int], target: int) -> int:\n",
    "        if target in nums:\n",
    "            print(nums.index(target))\n",
    "        else:\n",
    "            nums.append(target)\n",
    "            nums.sort()\n",
    "            return (nums.index(target))\n",
    "searchInsert([1,3,5,6,5],5)"
   ]
  },
  {
   "cell_type": "code",
   "execution_count": 86,
   "id": "d3d9c519",
   "metadata": {},
   "outputs": [
    {
     "ename": "NameError",
     "evalue": "name 'List' is not defined",
     "output_type": "error",
     "traceback": [
      "\u001b[1;31m---------------------------------------------------------------------------\u001b[0m",
      "\u001b[1;31mNameError\u001b[0m                                 Traceback (most recent call last)",
      "Input \u001b[1;32mIn [86]\u001b[0m, in \u001b[0;36m<cell line: 1>\u001b[1;34m()\u001b[0m\n\u001b[1;32m----> 1\u001b[0m \u001b[38;5;28;01mdef\u001b[39;00m \u001b[38;5;21mlongestCommonPrefix\u001b[39m(\u001b[38;5;28mself\u001b[39m, strs: \u001b[43mList\u001b[49m[\u001b[38;5;28mstr\u001b[39m]) \u001b[38;5;241m-\u001b[39m\u001b[38;5;241m>\u001b[39m \u001b[38;5;28mstr\u001b[39m:\n\u001b[0;32m      2\u001b[0m     strs\u001b[38;5;241m=\u001b[39m\u001b[38;5;28mlist\u001b[39m(\u001b[38;5;28mmap\u001b[39m(\u001b[38;5;28;01mlambda\u001b[39;00m x: x[\u001b[38;5;241m0\u001b[39m:\u001b[38;5;28mlen\u001b[39m(\u001b[38;5;28mmin\u001b[39m(strs, key\u001b[38;5;241m=\u001b[39m\u001b[38;5;28mlen\u001b[39m))],strs))\n\u001b[0;32m      3\u001b[0m     \u001b[38;5;28;01mwhile\u001b[39;00m \u001b[38;5;28;01mTrue\u001b[39;00m:\n",
      "\u001b[1;31mNameError\u001b[0m: name 'List' is not defined"
     ]
    }
   ],
   "source": [
    "# en uzun prefix\n",
    "def longestCommonPrefix(self, strs: List[str]) -> str:\n",
    "    strs=list(map(lambda x: x[0:len(min(strs, key=len))],strs))\n",
    "    while True:\n",
    "        if len(set(strs))==1:\n",
    "            return strs[0]\n",
    "            break\n",
    "        else:\n",
    "            strs=list(map(lambda x:x[:-1],strs))\n",
    "            if len(set(strs))==1:\n",
    "                continue\n",
    "                return strs[0]\n"
   ]
  },
  {
   "cell_type": "code",
   "execution_count": 87,
   "id": "6ed1a4a0",
   "metadata": {},
   "outputs": [
    {
     "data": {
      "text/plain": [
       "[7, 0, 8]"
      ]
     },
     "execution_count": 87,
     "metadata": {},
     "output_type": "execute_result"
    }
   ],
   "source": [
    "def func(ls1: list,ls2:list) -> list:\n",
    "    cem=ls1[::-1]+ls2[::-1]\n",
    "    st=''\n",
    "    for i in range(len(cem)):\n",
    "        st+=str(cem[i])\n",
    "        if cem[i]==ls1[0] and i==len(ls1)-1:\n",
    "            st+=\"+\"\n",
    "    a=list(str(eval(st)))\n",
    "    a=list(map(int, a))\n",
    "    a.reverse()\n",
    "    return a\n",
    "func([2,4,3],[5,6,4])"
   ]
  },
  {
   "cell_type": "code",
   "execution_count": 88,
   "id": "126f7c73",
   "metadata": {},
   "outputs": [],
   "source": [
    "def add_two_numbers(ls1: list,ls2: list) -> list:\n",
    "    return list(map(int,list(str(eval(''.join(reversed(list(map(str,ls1)))) +'+' + ''.join(reversed(list(map(str,ls2)))))))))[::-1]\n"
   ]
  },
  {
   "cell_type": "code",
   "execution_count": 69,
   "id": "4266b131",
   "metadata": {},
   "outputs": [
    {
     "name": "stdout",
     "output_type": "stream",
     "text": [
      "[7, 0, 8]\n"
     ]
    }
   ],
   "source": [
    "l1 = [2,4,3] \n",
    "l2 = [5,6,4]\n",
    "cem=l1[::-1]+l2[::-1]\n",
    "st=''\n",
    "for i in range(len(cem)):\n",
    "    st+=str(cem[i])\n",
    "    if cem[i]==l1[0] and i==len(l1)-1:\n",
    "        st+=\"+\"\n",
    "a=list(str(eval(st)))\n",
    "a=list(map(int, a))\n",
    "a.reverse()\n",
    "print(a)"
   ]
  },
  {
   "cell_type": "code",
   "execution_count": 97,
   "id": "07be8be8",
   "metadata": {},
   "outputs": [],
   "source": [
    "# elmirin kodu abcabcbb\n",
    "def find_max(s: str) -> int:\n",
    "    n = len(range())\n",
    "    unique_list = []\n",
    "    res = 0\n",
    "    for i in range(n):\n",
    "        for j in range(i, n):\n",
    "            if(s[j] in unique_list):\n",
    "                unique_list = []\n",
    "                break\n",
    "            else:\n",
    "                unique_list.append(s[j])\n",
    "                if(res < j - i + 1):\n",
    "                    res = j - i + 1\n",
    "    return res"
   ]
  },
  {
   "cell_type": "code",
   "execution_count": 141,
   "id": "ab567984",
   "metadata": {},
   "outputs": [
    {
     "data": {
      "text/plain": [
       "2"
      ]
     },
     "execution_count": 141,
     "metadata": {},
     "output_type": "execute_result"
    }
   ],
   "source": [
    "def permütasyonlar(liste, n):\n",
    "    if n == 0:\n",
    "        return [[]]\n",
    "    else:\n",
    "        sonuç = []\n",
    "        for eleman in liste:\n",
    "            alt_liste = liste.copy()\n",
    "            alt_liste.remove(eleman)\n",
    "            for permutasyon in permütasyonlar(alt_liste, n - 1):\n",
    "                sonuç.append([eleman] + permutasyon)\n",
    "        return sonuç\n",
    "\n",
    "permütasyonlar = permütasyonlar(liste, 3)\n",
    "for x in permütasyonlar:\n",
    "    ls=[]\n",
    "    n=3\n",
    "    num=0\n",
    "    if n%2==1:\n",
    "        ls.extend(n//2*[2])\n",
    "        ls.append(n%2)\n",
    "        num+=1\n",
    "        for x in (ls.count(2)*[0]):\n",
    "            if ls[x]==2:\n",
    "                ls.append(1)\n",
    "                ls.append(1)\n",
    "                ls.remove(ls[x])\n",
    "                num+=1\n",
    "    else:\n",
    "        ls.extend(n//2*[2])\n",
    "        num+=1\n",
    "        for x in (ls.count(2)*[0]):\n",
    "            if ls[x]==2:\n",
    "                ls.append(1)\n",
    "                ls.append(1)\n",
    "                ls.remove(ls[x])\n",
    "                num+=1\n",
    "    "
   ]
  },
  {
   "cell_type": "code",
   "execution_count": 1,
   "id": "7f3a5178",
   "metadata": {},
   "outputs": [],
   "source": [
    "def permütasyonlar(liste, n):\n",
    "    if n == 0:\n",
    "        return [[]]\n",
    "    else:\n",
    "        sonuç = []\n",
    "        for eleman in liste:\n",
    "            alt_liste = liste.copy()\n",
    "            alt_liste.remove(eleman)\n",
    "            for permutasyon in permütasyonlar(alt_liste, n - 1):\n",
    "                sonuç.append([eleman] + permutasyon)\n",
    "        return sonuç\n",
    "\n",
    "liste = [2, 2, 1]\n",
    "permütasyonlar = permütasyonlar(liste, 3)\n"
   ]
  },
  {
   "cell_type": "code",
   "execution_count": 6,
   "id": "19dab7de",
   "metadata": {},
   "outputs": [
    {
     "name": "stdout",
     "output_type": "stream",
     "text": [
      "0\n"
     ]
    }
   ],
   "source": [
    "s = \"babad\"\n",
    "new=''\n",
    "dc={}\n",
    "for i,j in enumerate(s):\n",
    "    for x,y in enumerate(s):\n",
    "        new+=y\n",
    "        if\n",
    "    "
   ]
  },
  {
   "cell_type": "code",
   "execution_count": null,
   "id": "a9d9c82c",
   "metadata": {},
   "outputs": [],
   "source": [
    "if new==new[::-1] and len(new)>1:\n",
    "        print(new)"
   ]
  },
  {
   "cell_type": "code",
   "execution_count": 27,
   "id": "f6ebbca5",
   "metadata": {},
   "outputs": [
    {
     "ename": "SyntaxError",
     "evalue": "'return' outside function (3909799707.py, line 14)",
     "output_type": "error",
     "traceback": [
      "\u001b[1;36m  Input \u001b[1;32mIn [27]\u001b[1;36m\u001b[0m\n\u001b[1;33m    return None\u001b[0m\n\u001b[1;37m    ^\u001b[0m\n\u001b[1;31mSyntaxError\u001b[0m\u001b[1;31m:\u001b[0m 'return' outside function\n"
     ]
    }
   ],
   "source": [
    "s='cbbd'\n",
    "dc={}\n",
    "for i in range(len(s)):\n",
    "    new=s[i:]\n",
    "    a=0\n",
    "    while a<len(new):\n",
    "        if new==new[::-1] and len(new)>1:\n",
    "            dc[new]=len(new)\n",
    "            break\n",
    "        else:\n",
    "            new=new[:-1]\n",
    "            a+=1\n",
    "if len(dc) == 0:\n",
    "        \n",
    "        \n",
    "max(dc.keys())   \n"
   ]
  },
  {
   "cell_type": "code",
   "execution_count": 36,
   "id": "165cfffa",
   "metadata": {},
   "outputs": [],
   "source": [
    "def longestPalindrome(s: str) -> str:\n",
    "        if len(s)==1:\n",
    "            return s\n",
    "        else:\n",
    "            dc={}\n",
    "            for i in range(len(s)):\n",
    "                new=s[i:]\n",
    "                a=0\n",
    "                while a<len(new):\n",
    "                    if new==new[::-1] and len(new)>1:\n",
    "                        dc[new]=len(new)\n",
    "                        break\n",
    "                    else:\n",
    "                        new=new[:-1]\n",
    "                        a+=1\n",
    "            if len(dc) == 0:\n",
    "                return None\n",
    "            \n",
    "            return max(dc.keys())\n",
    "\n",
    "longestPalindrome(\"ac\")"
   ]
  }
 ],
 "metadata": {
  "kernelspec": {
   "display_name": "Python 3 (ipykernel)",
   "language": "python",
   "name": "python3"
  },
  "language_info": {
   "codemirror_mode": {
    "name": "ipython",
    "version": 3
   },
   "file_extension": ".py",
   "mimetype": "text/x-python",
   "name": "python",
   "nbconvert_exporter": "python",
   "pygments_lexer": "ipython3",
   "version": "3.9.12"
  }
 },
 "nbformat": 4,
 "nbformat_minor": 5
}
